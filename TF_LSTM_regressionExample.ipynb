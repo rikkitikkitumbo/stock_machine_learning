{
 "cells": [
  {
   "cell_type": "code",
   "execution_count": 1,
   "metadata": {
    "collapsed": false
   },
   "outputs": [
    {
     "name": "stdout",
     "output_type": "stream",
     "text": [
      "libraries imported!\n"
     ]
    },
    {
     "data": {
      "text/plain": [
       "[3]"
      ]
     },
     "execution_count": 1,
     "metadata": {},
     "output_type": "execute_result"
    }
   ],
   "source": [
    "%matplotlib inline\n",
    "from matplotlib import pyplot as plt\n",
    "\n",
    "from tensorflow.contrib import learn\n",
    "# from sklearn.metrics import mean_squared_error\n",
    "import numpy as np\n",
    "import pandas as pd\n",
    "import tensorflow as tf\n",
    "from tensorflow.python.framework import dtypes\n",
    "\n",
    "\n",
    "import logging\n",
    "logging.basicConfig(level=logging.INFO)\n",
    "\n",
    "print('libraries imported!')\n",
    "\n",
    "def greg():\n",
    "    return [2 if (1==3) else 3]\n",
    "greg()"
   ]
  },
  {
   "cell_type": "markdown",
   "metadata": {},
   "source": [
    "# Define our get_data methods"
   ]
  },
  {
   "cell_type": "code",
   "execution_count": 2,
   "metadata": {
    "collapsed": false
   },
   "outputs": [
    {
     "name": "stdout",
     "output_type": "stream",
     "text": [
      "({'train': array([], dtype=float64), 'val': array([], dtype=float64), 'test': array([[[2],\n",
      "        [3]],\n",
      "\n",
      "       [[4],\n",
      "        [5]],\n",
      "\n",
      "       [[6],\n",
      "        [7]]])}, {'train': array([], dtype=float64), 'val': array([], dtype=float64), 'test': array([4, 6, 8])})\n",
      "get_data methods defined\n"
     ]
    }
   ],
   "source": [
    "def x_sin(x):\n",
    "    return x * np.sin(x)\n",
    "\n",
    "\n",
    "def sin_cos(x):\n",
    "    return pd.DataFrame(dict(a=np.sin(x), b=np.cos(x)), index=x)\n",
    "\n",
    "\n",
    "\n",
    "def rnn_data(data, time_steps, labels=False):\n",
    "    \"\"\"\n",
    "    creates new data frame based on previous observation\n",
    "      * example:\n",
    "        l = [1, 2, 3, 4, 5]\n",
    "        time_steps = 2\n",
    "        -> labels == False [[1, 2], [2, 3], [3, 4]]\n",
    "        -> labels == True [2, 3, 4, 5]\n",
    "    \"\"\"\n",
    "    rnn_df = []\n",
    "    for i in range(0,len(data) - time_steps, time_steps):\n",
    "        if labels:\n",
    "#             if(len(rnn_df) < 1):\n",
    "#                 rnn_df.append([4])\n",
    "\n",
    "            try:\n",
    "                rnn_df.append(data.iloc[i + time_steps].as_matrix())\n",
    "            except AttributeError:\n",
    "                rnn_df.append(data.iloc[i + time_steps])\n",
    "\n",
    "        else:\n",
    "            data_ = data.iloc[i: i + time_steps].as_matrix()\n",
    "            rnn_df.append(data_ if len(data_.shape) > 1 else [[i] for i in data_])\n",
    "    return np.array(rnn_df)\n",
    "\n",
    "\n",
    "\n",
    "def split_data(data, test_size, val_size=0):\n",
    "    \"\"\"\n",
    "    splits data to training, validation and testing parts\n",
    "    \"\"\"\n",
    "    ntest = len(data) - test_size\n",
    "    nval = len(data.iloc[:ntest]) - val_size\n",
    "\n",
    "    df_train, df_val, df_test = data.iloc[:nval], data.iloc[nval:ntest], data.iloc[ntest:]\n",
    "\n",
    "    return df_train, df_val, df_test\n",
    "\n",
    "\n",
    "def prepare_data(data, time_steps, test_size, labels=False, val_size=0):\n",
    "    \"\"\"\n",
    "    Given the number of `time_steps` and some data,\n",
    "    prepares training, validation and test data for an lstm cell.\n",
    "    \"\"\"\n",
    "    df_train, df_val, df_test = split_data(data, test_size, val_size)\n",
    "    return (rnn_data(df_train, time_steps, labels=labels),\n",
    "            rnn_data(df_val, time_steps, labels=labels),\n",
    "            rnn_data(df_test, time_steps, labels=labels))\n",
    "\n",
    "\n",
    "def generate_data(fct, x, time_steps, test_size, seperate=False):\n",
    "    \"\"\"generates data with based on a function fct\"\"\"\n",
    "    data = fct(x)\n",
    "#     if not isinstance(data, pd.DataFrame):\n",
    "#         data = pd.DataFrame(data)\n",
    "    train_x, val_x, test_x = prepare_data(data, time_steps, test_size)\n",
    "    train_y, val_y, test_y = prepare_data(data, time_steps, test_size, labels=True)\n",
    "    return dict(train=train_x, val=val_x, test=test_x), dict(train=train_y, val=val_y, test=test_y)\n",
    "\n",
    "def f(x):\n",
    "    return x\n",
    "\n",
    "greg = pd.Series([1,2,3,4,5,6,7,8,9])\n",
    "print(generate_data(f,greg,2,8))\n",
    "print('get_data methods defined')"
   ]
  },
  {
   "cell_type": "markdown",
   "metadata": {},
   "source": [
    "# Define our LSTM Model"
   ]
  },
  {
   "cell_type": "code",
   "execution_count": 22,
   "metadata": {
    "collapsed": false
   },
   "outputs": [
    {
     "name": "stdout",
     "output_type": "stream",
     "text": [
      "model defined\n"
     ]
    }
   ],
   "source": [
    "def lstm_model(time_steps, rnn_layers, dense_layers=None):\n",
    "    print(rnn_layers)\n",
    "    \"\"\"\n",
    "    Creates a deep model based on:\n",
    "        * stacked lstm cells\n",
    "        * an optional dense layers\n",
    "    :param time_steps: the number of time steps the model will be looking at.\n",
    "    :param rnn_layers: list of int or dict\n",
    "                         * list of int: the steps used to instantiate the `BasicLSTMCell` cell\n",
    "                         * list of dict: [{steps: int, keep_prob: int}, ...]\n",
    "    :param dense_layers: list of nodes for each layer\n",
    "    :return: the model definition\n",
    "    \"\"\"\n",
    "    sess = tf.Session()\n",
    "    \n",
    "    \n",
    "    def lstm_cells(layers):\n",
    "        if isinstance(layers[0], dict):\n",
    "            return [tf.nn.rnn_cell.DropoutWrapper(tf.nn.rnn_cell.BasicLSTMCell(layer['steps'],\n",
    "                                                                               state_is_tuple=True),\n",
    "                                                  layer['keep_prob'])\n",
    "                    if layer.get('keep_prob') else tf.nn.rnn_cell.BasicLSTMCell(layer['steps'],\n",
    "                                                                                state_is_tuple=True)\n",
    "                    \n",
    "                    for layer in layers]\n",
    "        return [tf.nn.rnn_cell.BasicLSTMCell(steps, state_is_tuple=True) for steps in layers]\n",
    "\n",
    "    def dnn_layers(input_layers, layers):\n",
    "        if layers and isinstance(layers, dict):\n",
    "            return learn.ops.dnn(input_layers,\n",
    "                                 layers['layers'],\n",
    "                                 activation=layers.get('activation'),\n",
    "                                 dropout=layers.get('dropout'))\n",
    "        elif layers:\n",
    "            return learn.ops.dnn(input_layers, layers)\n",
    "        else:\n",
    "            return input_layers\n",
    "\n",
    "    def _lstm_model(X, y):\n",
    "        stacked_lstm = tf.nn.rnn_cell.MultiRNNCell(lstm_cells(rnn_layers), state_is_tuple=True)\n",
    "        x_ = learn.ops.split_squeeze(1, time_steps, X)\n",
    "        output, layers = tf.nn.rnn(stacked_lstm, x_, dtype=dtypes.float32)\n",
    "        output = dnn_layers(output[-1], dense_layers)\n",
    "        return learn.models.linear_regression(output, y)\n",
    "\n",
    "    return _lstm_model\n",
    "\n",
    "\n",
    "print('model defined')\n"
   ]
  },
  {
   "cell_type": "markdown",
   "metadata": {},
   "source": [
    "# Define some variables and run the LSTM model\n"
   ]
  },
  {
   "cell_type": "code",
   "execution_count": 23,
   "metadata": {
    "collapsed": false
   },
   "outputs": [
    {
     "name": "stdout",
     "output_type": "stream",
     "text": [
      "[{'steps': 5}]\n",
      "(2, 5, 1)\n",
      "(2,)\n",
      "Tensor(\"output:0\", shape=(?,), dtype=float32)\n",
      "Tensor(\"Placeholder:0\", shape=(?,), dtype=float32)\n",
      "[ 0.69778621 -0.50883472]\n",
      "[ 0.68326171 -0.50636564]\n",
      "MSE: 0.0104177101299\n"
     ]
    },
    {
     "data": {
      "image/png": "[encoded data removed]",
      "text/plain": [
       "<matplotlib.figure.Figure at 0x7f07fc6b66d8>"
      ]
     },
     "metadata": {},
     "output_type": "display_data"
    }
   ],
   "source": [
    "# print(pd.Series(np.linspace(0, 5, 6)))\n",
    "# X, y = generate_data(np.sin, pd.Series(np.linspace(0, 5, 5)), TIMESTEPS, TESTSIZE, seperate=False)\n",
    "# print(X)\n",
    "# print(y)\n",
    "LOG_DIR = './ops_logs'\n",
    "TIMESTEPS = 5\n",
    "TESTSIZE = 11\n",
    "RNN_LAYERS = [{'steps': TIMESTEPS}]\n",
    "DENSE_LAYERS = None\n",
    "TRAINING_STEPS = 500\n",
    "BATCH_SIZE = 100\n",
    "PRINT_STEPS = TRAINING_STEPS / 5\n",
    "\n",
    "\n",
    "regressor = learn.TensorFlowEstimator(model_fn=lstm_model(TIMESTEPS, RNN_LAYERS, DENSE_LAYERS), n_classes=0,\n",
    "                                      verbose=0,  steps=TRAINING_STEPS, optimizer='Adagrad',\n",
    "                                      learning_rate=0.03, batch_size=BATCH_SIZE)\n",
    "\n",
    "X, y = generate_data(np.sin, pd.Series(np.linspace(0, 100, 101)), TIMESTEPS, TESTSIZE, seperate=False)\n",
    "# print(X)\n",
    "\n",
    "print(X['test'].shape)\n",
    "print(y['test'].shape)\n",
    "\n",
    "\n",
    "# create a lstm instance and validation monitor\n",
    "# validation_monitor = learn.monitors.ValidationMonitor(X['test'], y['test'],\n",
    "#                                                       every_n_steps=PRINT_STEPS,\n",
    "#                                                       early_stopping_rounds=1000)\n",
    "regressor.fit(X['train'], y['train'])#, monitors=[validation_monitor])#, logdir=LOG_DIR+'greg')\n",
    "\n",
    "\n",
    "# print(X['train'].shape)\n",
    "# print(X['val'].shape)\n",
    "# print(X['test'])\n",
    "predicted = regressor.predict(X['test'])\n",
    "print(predicted)\n",
    "print(y['test'])\n",
    "rmse = np.sqrt(((predicted - y['test']) ** 2).mean(axis=0))\n",
    "score = rmse\n",
    "print (\"MSE: \" + str(score))\n",
    "plot_predicted, = plt.plot(predicted, label='predicted')\n",
    "plot_test, = plt.plot(y['test'], label='test')\n",
    "\n",
    "sess.close()\n",
    "# LOG_DIR = './ops_logs'\n",
    "# TIMESTEPS = 5\n",
    "# RNN_LAYERS = [{'steps': TIMESTEPS}]\n",
    "# DENSE_LAYERS = None\n",
    "# TRAINING_STEPS = 10000\n",
    "# BATCH_SIZE = 100\n",
    "# PRINT_STEPS = TRAINING_STEPS / 100\n",
    "\n",
    "# regressor = learn.TensorFlowEstimator(model_fn=lstm_model(TIMESTEPS, RNN_LAYERS, DENSE_LAYERS), n_classes=0,\n",
    "#                                       verbose=0,  steps=TRAINING_STEPS, optimizer='Adagrad',\n",
    "#                                       learning_rate=0.03, batch_size=BATCH_SIZE)\n",
    "\n",
    "# X, y = generate_data(sin_cos, np.linspace(0, 100, 10000), TIMESTEPS, seperate=False)\n",
    "# # create a lstm instance and validation monitor\n",
    "# validation_monitor = learn.monitors.ValidationMonitor(X['val'], y['val'],\n",
    "#                                                       every_n_steps=PRINT_STEPS,\n",
    "#                                                       early_stopping_rounds=1000)\n",
    "# regressor.fit(X['train'], y['train'])#, monitors=[validation_monitor], logdir=LOG_DIR+'0')"
   ]
  },
  {
   "cell_type": "code",
   "execution_count": 189,
   "metadata": {
    "collapsed": false
   },
   "outputs": [
    {
     "name": "stdout",
     "output_type": "stream",
     "text": [
      "MSE: 0.279123113395\n"
     ]
    },
    {
     "data": {
      "image/png": "[encoded data removed]",
      "text/plain": [
       "<matplotlib.figure.Figure at 0x7f49494941d0>"
      ]
     },
     "metadata": {},
     "output_type": "display_data"
    }
   ],
   "source": [
    "predicted = regressor.predict(X['test'])\n",
    "rmse = np.sqrt(((predicted - y['test']) ** 2).mean(axis=0))\n",
    "score = rmse\n",
    "print (\"MSE: \" + str(score))\n",
    "plot_predicted, = plt.plot(predicted, label='predicted')\n",
    "plot_test, = plt.plot(y['test'], label='test')\n",
    "# plt.legend(handles=[plot_predicted, plot_test])"
   ]
  },
  {
   "cell_type": "code",
   "execution_count": null,
   "metadata": {
    "collapsed": true
   },
   "outputs": [],
   "source": []
  }
 ],
 "metadata": {
  "kernelspec": {
   "display_name": "Python 3",
   "language": "python",
   "name": "python3"
  },
  "language_info": {
   "codemirror_mode": {
    "name": "ipython",
    "version": 3
   },
   "file_extension": ".py",
   "mimetype": "text/x-python",
   "name": "python",
   "nbconvert_exporter": "python",
   "pygments_lexer": "ipython3",
   "version": "3.4.3"
  }
 },
 "nbformat": 4,
 "nbformat_minor": 0
}
