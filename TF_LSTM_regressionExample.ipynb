{
 "cells": [
  {
   "cell_type": "code",
   "execution_count": 150,
   "metadata": {
    "collapsed": false
   },
   "outputs": [
    {
     "name": "stdout",
     "output_type": "stream",
     "text": [
      "libraries imported!\n"
     ]
    },
    {
     "data": {
      "text/plain": [
       "[3]"
      ]
     },
     "execution_count": 150,
     "metadata": {},
     "output_type": "execute_result"
    }
   ],
   "source": [
    "%matplotlib inline\n",
    "from matplotlib import pyplot as plt\n",
    "\n",
    "from tensorflow.contrib import learn\n",
    "# from sklearn.metrics import mean_squared_error\n",
    "import numpy as np\n",
    "import pandas as pd\n",
    "import tensorflow as tf\n",
    "from tensorflow.python.framework import dtypes\n",
    "from tensorflow.contrib import learn\n",
    "\n",
    "import logging\n",
    "logging.basicConfig(level=logging.INFO)\n",
    "\n",
    "print('libraries imported!')\n",
    "\n",
    "def greg():\n",
    "    return [2 if (1==3) else 3]\n",
    "greg()"
   ]
  },
  {
   "cell_type": "markdown",
   "metadata": {},
   "source": [
    "# Define our get_data methods"
   ]
  },
  {
   "cell_type": "code",
   "execution_count": 87,
   "metadata": {
    "collapsed": false
   },
   "outputs": [
    {
     "name": "stdout",
     "output_type": "stream",
     "text": [
      "get_data methods defined\n"
     ]
    }
   ],
   "source": [
    "def x_sin(x):\n",
    "    return x * np.sin(x)\n",
    "\n",
    "\n",
    "def sin_cos(x):\n",
    "    return pd.DataFrame(dict(a=np.sin(x), b=np.cos(x)), index=x)\n",
    "\n",
    "\n",
    "\n",
    "def rnn_data(data, time_steps, labels=False):\n",
    "    \"\"\"\n",
    "    creates new data frame based on previous observation\n",
    "      * example:\n",
    "        l = [1, 2, 3, 4, 5]\n",
    "        time_steps = 2\n",
    "        -> labels == False [[1, 2], [2, 3], [3, 4]]\n",
    "        -> labels == True [2, 3, 4, 5]\n",
    "    \"\"\"\n",
    "    rnn_df = []\n",
    "    for i in range(len(data) - time_steps):\n",
    "        if labels:\n",
    "            try:\n",
    "                rnn_df.append(data.iloc[i + time_steps].as_matrix())\n",
    "            except AttributeError:\n",
    "                rnn_df.append(data.iloc[i + time_steps])\n",
    "        else:\n",
    "            data_ = data.iloc[i: i + time_steps].as_matrix()\n",
    "            rnn_df.append(data_ if len(data_.shape) > 1 else [[i] for i in data_])\n",
    "    return np.array(rnn_df)\n",
    "\n",
    "def split_data(data, val_size=0.1, test_size=0.1):\n",
    "    \"\"\"\n",
    "    splits data to training, validation and testing parts\n",
    "    \"\"\"\n",
    "    ntest = int(round(len(data) * (1 - test_size)))\n",
    "    nval = int(round(len(data.iloc[:ntest]) * (1 - val_size)))\n",
    "\n",
    "    df_train, df_val, df_test = data.iloc[:nval], data.iloc[nval:ntest], data.iloc[ntest:]\n",
    "\n",
    "    return df_train, df_val, df_test\n",
    "\n",
    "\n",
    "def prepare_data(data, time_steps, labels=False, val_size=0.1, test_size=0.1):\n",
    "    \"\"\"\n",
    "    Given the number of `time_steps` and some data,\n",
    "    prepares training, validation and test data for an lstm cell.\n",
    "    \"\"\"\n",
    "    df_train, df_val, df_test = split_data(data, val_size, test_size)\n",
    "    return (rnn_data(df_train, time_steps, labels=labels),\n",
    "            rnn_data(df_val, time_steps, labels=labels),\n",
    "            rnn_data(df_test, time_steps, labels=labels))\n",
    "\n",
    "\n",
    "def generate_data(fct, x, time_steps, seperate=False):\n",
    "    \"\"\"generates data with based on a function fct\"\"\"\n",
    "    data = fct(x)\n",
    "#     if not isinstance(data, pd.DataFrame):\n",
    "#         data = pd.DataFrame(data)\n",
    "    train_x, val_x, test_x = prepare_data(data, time_steps)\n",
    "    train_y, val_y, test_y = prepare_data(data, time_steps, labels=True)\n",
    "    return dict(train=train_x, val=val_x, test=test_x), dict(train=train_y, val=val_y, test=test_y)\n",
    "\n",
    "\n",
    "print('get_data methods defined')"
   ]
  },
  {
   "cell_type": "markdown",
   "metadata": {},
   "source": [
    "# Define our LSTM Model"
   ]
  },
  {
   "cell_type": "code",
   "execution_count": 176,
   "metadata": {
    "collapsed": false
   },
   "outputs": [
    {
     "name": "stdout",
     "output_type": "stream",
     "text": [
      "model defined\n"
     ]
    }
   ],
   "source": [
    "def lstm_model(time_steps, rnn_layers, dense_layers=None):\n",
    "    \"\"\"\n",
    "    Creates a deep model based on:\n",
    "        * stacked lstm cells\n",
    "        * an optional dense layers\n",
    "    :param time_steps: the number of time steps the model will be looking at.\n",
    "    :param rnn_layers: list of int or dict\n",
    "                         * list of int: the steps used to instantiate the `BasicLSTMCell` cell\n",
    "                         * list of dict: [{steps: int, keep_prob: int}, ...]\n",
    "    :param dense_layers: list of nodes for each layer\n",
    "    :return: the model definition\n",
    "    \"\"\"\n",
    "\n",
    "    def lstm_cells(layers):\n",
    "        if isinstance(layers[0], dict):\n",
    "            return [tf.nn.rnn_cell.DropoutWrapper(tf.nn.rnn_cell.BasicLSTMCell(layer['steps'],\n",
    "                                                                               state_is_tuple=True),\n",
    "                                                  layer['keep_prob'])\n",
    "                    if layer.get('keep_prob') else tf.nn.rnn_cell.BasicLSTMCell(layer['steps'],\n",
    "                                                                                state_is_tuple=True)\n",
    "                    for layer in layers]\n",
    "        return [tf.nn.rnn_cell.BasicLSTMCell(steps, state_is_tuple=True) for steps in layers]\n",
    "\n",
    "    def dnn_layers(input_layers, layers):\n",
    "        if layers and isinstance(layers, dict):\n",
    "            return learn.ops.dnn(input_layers,\n",
    "                                 layers['layers'],\n",
    "                                 activation=layers.get('activation'),\n",
    "                                 dropout=layers.get('dropout'))\n",
    "        elif layers:\n",
    "            return learn.ops.dnn(input_layers, layers)\n",
    "        else:\n",
    "            return input_layers\n",
    "\n",
    "    def _lstm_model(X, y):\n",
    "        stacked_lstm = tf.nn.rnn_cell.MultiRNNCell(lstm_cells(rnn_layers), state_is_tuple=True)\n",
    "        x_ = learn.ops.split_squeeze(1, time_steps, X)\n",
    "        output, layers = tf.nn.rnn(stacked_lstm, x_, dtype=dtypes.float32)\n",
    "        output = dnn_layers(output[-1], dense_layers)\n",
    "        return learn.models.linear_regression(output, y)\n",
    "\n",
    "    return _lstm_model\n",
    "\n",
    "\n",
    "print('model defined')\n"
   ]
  },
  {
   "cell_type": "markdown",
   "metadata": {},
   "source": [
    "# Define some variables and run the LSTM model\n"
   ]
  },
  {
   "cell_type": "code",
   "execution_count": 208,
   "metadata": {
    "collapsed": false
   },
   "outputs": [
    {
     "name": "stdout",
     "output_type": "stream",
     "text": [
      "[-0.29984868 -0.36781138 -0.41454703 -0.44876182 -0.47483933 -0.49440354\n",
      " -0.50763392 -0.51363206 -0.51019448 -0.4933852  -0.45702428 -0.39262438\n",
      " -0.29236016 -0.15851793 -0.01182514  0.11965048  0.22050577  0.29077691\n",
      "  0.33746648  0.36816597  0.38870198  0.40270787  0.41145617  0.41352779\n",
      "  0.4046219   0.37798679  0.3258276   0.24171978  0.12431395 -0.01656514\n",
      " -0.15623745 -0.26863045 -0.34682092 -0.39982235 -0.43775934 -0.46641961\n",
      " -0.4882054  -0.50371808 -0.51244628 -0.51269031]\n",
      "[-0.88109937 -0.9576085  -0.99578815 -0.99411013 -0.9526416  -0.87304239\n",
      " -0.75849857 -0.61359489 -0.4441313  -0.2568908  -0.05936792  0.14053123\n",
      "  0.33480544  0.51567865  0.67591117  0.8090895   0.909883    0.97425729\n",
      "  0.99963572  0.98500247  0.93094325  0.83962187  0.71469356  0.56115875\n",
      "  0.38516285  0.19375033 -0.00541729 -0.20436808 -0.39513878 -0.57009355\n",
      " -0.72222962 -0.84545754 -0.93484495 -0.98681403 -0.99928463 -0.97175761\n",
      " -0.90533477 -0.80267477 -0.66788671 -0.50636564]\n",
      "MSE: 0.48850137495\n"
     ]
    },
    {
     "data": {
      "image/png": "[encoded data removed]",
      "text/plain": [
       "<matplotlib.figure.Figure at 0x7f4948660240>"
      ]
     },
     "metadata": {},
     "output_type": "display_data"
    }
   ],
   "source": [
    "LOG_DIR = './ops_logs'\n",
    "TIMESTEPS = 10\n",
    "RNN_LAYERS = [{'steps': TIMESTEPS}]\n",
    "DENSE_LAYERS = None\n",
    "TRAINING_STEPS = 20\n",
    "BATCH_SIZE = 100\n",
    "PRINT_STEPS = TRAINING_STEPS / 5\n",
    "\n",
    "\n",
    "regressor = learn.TensorFlowEstimator(model_fn=lstm_model(TIMESTEPS, RNN_LAYERS, DENSE_LAYERS), n_classes=0,\n",
    "                                      verbose=0,  steps=TRAINING_STEPS, optimizer='Adagrad',\n",
    "                                      learning_rate=0.03, batch_size=BATCH_SIZE)\n",
    "\n",
    "X, y = generate_data(np.sin, pd.Series(np.linspace(0, 100, 500)), TIMESTEPS, seperate=False)\n",
    "# print(X)\n",
    "\n",
    "# create a lstm instance and validation monitor\n",
    "# validation_monitor = learn.monitors.ValidationMonitor(X['val'], y['val'],\n",
    "#                                                       every_n_steps=PRINT_STEPS,\n",
    "#                                                       early_stopping_rounds=1000)\n",
    "regressor.fit(X['train'], y['train'])#, monitors=[validation_monitor], logdir=LOG_DIR+'greg')\n",
    "\n",
    "\n",
    "predicted = regressor.predict(X['test'])\n",
    "print(predicted)\n",
    "print(y['test'])\n",
    "rmse = np.sqrt(((predicted - y['test']) ** 2).mean(axis=0))\n",
    "score = rmse\n",
    "print (\"MSE: \" + str(score))\n",
    "plot_predicted, = plt.plot(predicted, label='predicted')\n",
    "plot_test, = plt.plot(y['test'], label='test')\n",
    "\n",
    "\n",
    "# LOG_DIR = './ops_logs'\n",
    "# TIMESTEPS = 5\n",
    "# RNN_LAYERS = [{'steps': TIMESTEPS}]\n",
    "# DENSE_LAYERS = None\n",
    "# TRAINING_STEPS = 10000\n",
    "# BATCH_SIZE = 100\n",
    "# PRINT_STEPS = TRAINING_STEPS / 100\n",
    "\n",
    "# regressor = learn.TensorFlowEstimator(model_fn=lstm_model(TIMESTEPS, RNN_LAYERS, DENSE_LAYERS), n_classes=0,\n",
    "#                                       verbose=0,  steps=TRAINING_STEPS, optimizer='Adagrad',\n",
    "#                                       learning_rate=0.03, batch_size=BATCH_SIZE)\n",
    "\n",
    "# X, y = generate_data(sin_cos, np.linspace(0, 100, 10000), TIMESTEPS, seperate=False)\n",
    "# # create a lstm instance and validation monitor\n",
    "# validation_monitor = learn.monitors.ValidationMonitor(X['val'], y['val'],\n",
    "#                                                       every_n_steps=PRINT_STEPS,\n",
    "#                                                       early_stopping_rounds=1000)\n",
    "# regressor.fit(X['train'], y['train'])#, monitors=[validation_monitor], logdir=LOG_DIR+'0')"
   ]
  },
  {
   "cell_type": "code",
   "execution_count": 189,
   "metadata": {
    "collapsed": false
   },
   "outputs": [
    {
     "name": "stdout",
     "output_type": "stream",
     "text": [
      "MSE: 0.279123113395\n"
     ]
    },
    {
     "data": {
      "image/png": "[encoded data removed]",
      "text/plain": [
       "<matplotlib.figure.Figure at 0x7f49494941d0>"
      ]
     },
     "metadata": {},
     "output_type": "display_data"
    }
   ],
   "source": [
    "predicted = regressor.predict(X['test'])\n",
    "rmse = np.sqrt(((predicted - y['test']) ** 2).mean(axis=0))\n",
    "score = rmse\n",
    "print (\"MSE: \" + str(score))\n",
    "plot_predicted, = plt.plot(predicted, label='predicted')\n",
    "plot_test, = plt.plot(y['test'], label='test')\n",
    "# plt.legend(handles=[plot_predicted, plot_test])"
   ]
  },
  {
   "cell_type": "code",
   "execution_count": null,
   "metadata": {
    "collapsed": true
   },
   "outputs": [],
   "source": []
  }
 ],
 "metadata": {
  "kernelspec": {
   "display_name": "Python 3",
   "language": "python",
   "name": "python3"
  },
  "language_info": {
   "codemirror_mode": {
    "name": "ipython",
    "version": 3
   },
   "file_extension": ".py",
   "mimetype": "text/x-python",
   "name": "python",
   "nbconvert_exporter": "python",
   "pygments_lexer": "ipython3",
   "version": "3.4.3"
  }
 },
 "nbformat": 4,
 "nbformat_minor": 0
}
