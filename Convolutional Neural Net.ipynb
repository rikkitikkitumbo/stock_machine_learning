{
 "cells": [
  {
   "cell_type": "code",
   "execution_count": null,
   "metadata": {
    "collapsed": true
   },
   "outputs": [],
   "source": [
    "# Conclusion:\n",
    "# I found the Convolutional Neural Network to be pretty dismal.  \n",
    "# I'm wondering if a CNN is a good approach for predicting the next element in a series.  \n",
    "# Perhaps there is a better model for problems like this.  "
   ]
  },
  {
   "cell_type": "code",
   "execution_count": 7,
   "metadata": {
    "collapsed": false
   },
   "outputs": [
    {
     "name": "stdout",
     "output_type": "stream",
     "text": [
      "libraries imported!\n"
     ]
    }
   ],
   "source": [
    "# ---------------Load Data-----------------\n",
    "import numpy as np\n",
    "import pandas as pd\n",
    "import tensorflow as tf\n",
    "import matplotlib.pyplot as plt\n",
    "import matplotlib.cm as cm\n",
    "import random as random\n",
    "import os as os\n",
    "%matplotlib inline \n",
    "\n",
    "# data = pd.read_csv('data/training.csv')\n",
    "print('libraries imported!')\n"
   ]
  },
  {
   "cell_type": "markdown",
   "metadata": {
    "collapsed": true
   },
   "source": [
    "# Def getting stock data (getting next batch)"
   ]
  },
  {
   "cell_type": "code",
   "execution_count": 68,
   "metadata": {
    "collapsed": false
   },
   "outputs": [
    {
     "name": "stdout",
     "output_type": "stream",
     "text": [
      "get Data methods defined\n",
      "[[ 0.77419233]]\n"
     ]
    }
   ],
   "source": [
    "stockFiles = os.listdir('stockData')\n",
    "predictionsCount = 1 #the High, Low, and close over the course of the prediction period\n",
    "setupArrayLength = 50 # this should be the numDays you want in a setup x 5 \n",
    "\n",
    "def getStockData(fileName, start, setupLength, predictLength):\n",
    "    setupData = []\n",
    "    file = open('stockData/' + fileName)\n",
    "    fLines = file.readlines()\n",
    "    end = start + setupLength + predictLength -1\n",
    "    predictStartDate = fLines[start + predictLength -1].split(',')[0]\n",
    "    predictEndDate = fLines[start].split(',')[0]\n",
    "    high = 0\n",
    "    low = 1000000\n",
    "    \n",
    "    # get the 'old' stock data\n",
    "    for i in range(end, start-1, -1):\n",
    "        line = fLines[i].strip()\n",
    "        lineArray = line.split(',')\n",
    "        for k in range(1,7):\n",
    "            lineArray[k] = float(lineArray[k])\n",
    "        x = lineArray[6]/lineArray[4]\n",
    "\n",
    "        if(i>=(start+predictLength)):\n",
    "            for j in range(1,5):\n",
    "                setupData.append(lineArray[j]*x)\n",
    "            setupData.append(lineArray[5])\n",
    "\n",
    "    \n",
    "    # get the high/low of 'new' stock data (we try and predict this)\n",
    "        if(i<(start + predictLength)):\n",
    "            if (lineArray[2]*x > high):\n",
    "                high = lineArray[2]*x\n",
    "            if (lineArray[3]*x < low):\n",
    "                low = lineArray[3]*x\n",
    "                \n",
    "        close = float(fLines[start].split(',')[4])*x\n",
    "    \n",
    "    file.close()\n",
    "    \n",
    "    \n",
    "    # ----------------------convert data to 0=>1 instead of prices\n",
    "    tmpHi = 0\n",
    "    tmpLow = 1000000\n",
    "    tmpVolHi = 0\n",
    "    tmpVolLow = 1000000000\n",
    "    \n",
    "    for i in range(0,len(setupData)): # find the His and Lows for vol and price\n",
    "        if(5*(i//5)+1 == i):\n",
    "            if(setupData[i] > tmpHi):\n",
    "                tmpHi = setupData[i]\n",
    "        if(5*(i//5)+2 == i):\n",
    "            if(setupData[i] < tmpLow):\n",
    "                tmpLow = setupData[i]\n",
    "        if(5*(i//5)+4 == i):\n",
    "            if(setupData[i] > tmpVolHi):\n",
    "                tmpVolHi = setupData[i]\n",
    "            if(setupData[i] < tmpVolLow):\n",
    "                tmpVolLow = setupData[i]\n",
    "    \n",
    "    if(tmpHi-tmpLow ==0): #special case where the tmpHi and tmpLow are equal to eachother\n",
    "            tmpLow = tmpLow - .10\n",
    "    if(tmpVolHi-tmpVolLow ==0): \n",
    "        tmpVolLow = tmpVolLow - .10\n",
    "\n",
    "    for i in range(0,len(setupData)): # convert the data to values between 0 and 1\n",
    "        if(5*(i//5)+4 != i):\n",
    "            setupData[i] = (setupData[i] - tmpLow)/(tmpHi-tmpLow)\n",
    "        if(5*(i//5)+4 == i):\n",
    "            setupData[i] = (setupData[i] - tmpVolLow)/(tmpVolHi-tmpVolLow)\n",
    "        \n",
    "    futureLabels = [(close-tmpLow)/(tmpHi-tmpLow)]\n",
    "    symbolAndPredictDates = [fileName.split('.')[0], predictStartDate, predictEndDate]\n",
    "            \n",
    "    return setupData, futureLabels, symbolAndPredictDates\n",
    " \n",
    "\n",
    "\n",
    "def getBatch(setupLength, predictLength):\n",
    "    randIndex = random.randint(0,950)\n",
    "    fileName = stockFiles[randIndex]\n",
    "    file = open('stockData/' + fileName)\n",
    "    fLines = file.readlines()\n",
    "    file.close()\n",
    "    start = random.randint(1, (len(fLines) - setupLength - predictLength - 1))\n",
    "    spySetupData, spyLabels, labelDates = getStockData('SPY.txt',start,setupLength,predictLength)\n",
    "    stockSetupData, stockLabels, labelDates = getStockData(fileName,start,setupLength,predictLength)\n",
    "    setupData = []\n",
    "    futureLabels = []\n",
    "    \n",
    "    setupData.append(stockSetupData)\n",
    "    setupData.append(spySetupData)\n",
    "    futureLabels.append(stockLabels)\n",
    "    \n",
    "    return np.asarray(setupData,dtype=np.float32), np.asarray(futureLabels,dtype=np.float32), labelDates\n",
    "    \n",
    "\n",
    "\n",
    "print('get Data methods defined')\n",
    "\n",
    "greg,j,k = getBatch(10,1)\n",
    "print(j)\n",
    "# print(greg)"
   ]
  },
  {
   "cell_type": "markdown",
   "metadata": {
    "collapsed": true
   },
   "source": [
    "# Set up our CNN methods"
   ]
  },
  {
   "cell_type": "code",
   "execution_count": 45,
   "metadata": {
    "collapsed": false
   },
   "outputs": [
    {
     "name": "stdout",
     "output_type": "stream",
     "text": [
      "methods defined\n"
     ]
    }
   ],
   "source": [
    "# set up our weights (or kernals?) and biases for each pixel\n",
    "def weight_variable(shape):\n",
    "    initial = tf.truncated_normal(shape, stddev=.1)\n",
    "    return tf.Variable(initial)\n",
    "\n",
    "def bias_variable(shape):\n",
    "    initial = tf.constant(.1, shape=shape, dtype=tf.float32)\n",
    "    return tf.Variable(initial)\n",
    "\n",
    "# convolution\n",
    "def conv2d(x, W):\n",
    "    return tf.nn.conv2d(x, W, [1,1,1,1], 'SAME')\n",
    "\n",
    "# pooling\n",
    "def max_pool_2x2(x):\n",
    "    return tf.nn.max_pool(x, ksize=[1, 2, 2, 1], strides=[1, 2, 2, 1], padding='SAME')\n",
    "\n",
    "\n",
    "\n",
    "# placeholder variables\n",
    "# stock_setupData\n",
    "x = tf.placeholder(tf.float32, shape=[None, setupArrayLength])\n",
    "\n",
    "# stockPredictionData\n",
    "y_ = tf.placeholder(tf.float32, shape=[None, predictionsCount])\n",
    "\n",
    "\n",
    "\n",
    "print('methods defined')"
   ]
  },
  {
   "cell_type": "markdown",
   "metadata": {},
   "source": [
    "# set up our CNN"
   ]
  },
  {
   "cell_type": "code",
   "execution_count": 46,
   "metadata": {
    "collapsed": false
   },
   "outputs": [
    {
     "name": "stdout",
     "output_type": "stream",
     "text": [
      "Convolutional Nueral Net Defined\n"
     ]
    }
   ],
   "source": [
    "# ----------------first convolutional layer---------------------------\n",
    "W_conv1 = weight_variable([1, 5, 1, 32]) # filterHeight,filterWidth,inChannels,outFeatures\n",
    "b_conv1 = bias_variable([32])\n",
    "\n",
    "# x,l = (getStockData('AXS.txt', 2,1))\n",
    "\n",
    "# turn shape(stockDaysCount,5)  into   (?,stockDaysCount,5,1) ... so it will work with the conv2d method\n",
    "stockDaysCount = int(setupArrayLength/5)\n",
    "stock = tf.reshape(x, [-1,stockDaysCount,5,1])  # numStocks,stockDaysCount,width,numChannels\n",
    "# print (stock.get_shape()) # =>(?,stockDaysCount,5,1)\n",
    "\n",
    "h_conv1 = tf.nn.relu(conv2d(stock, W_conv1) + b_conv1)\n",
    "# print (h_conv1.get_shape()) # => (?, stockDaysCount, 5, 32)\n",
    "\n",
    "\n",
    "# ------------------------------not really sure we need max pooling?  there aren't that many data points\n",
    "# h_pool1 = max_pool_2x2(h_conv1)\n",
    "# print (h_pool1.get_shape()) # => (?, 48, 48, 32)\n",
    "\n",
    "\n",
    "\n",
    "\n",
    "#-------------------------- second convolutional layer-----------------\n",
    "W_conv2 = weight_variable([1, 5, 32, 64]) # filterHeight,filterWidth,inChannels,outFeatures\n",
    "b_conv2 = bias_variable([64])\n",
    "\n",
    "h_conv2 = tf.nn.relu(conv2d(h_conv1, W_conv2) + b_conv2)\n",
    "# print (h_conv2.get_shape()) # => (?, stockDaysCount,5,64)\n",
    "\n",
    "#------------------again----------------no pooling\n",
    "# h_pool2 = max_pool_2x2(h_conv2)\n",
    "# print (h_pool2.get_shape()) # => (?, 24, 24, 64)\n",
    "\n",
    "\n",
    "\n",
    "#-------------------------fully connected layer-----------------------\n",
    "W_fc1 = weight_variable([stockDaysCount * 5 * 64, 1024])\n",
    "b_fc1 = bias_variable([1024])\n",
    "\n",
    "# (?, 24, 24, 64) => (?, 36864)\n",
    "h_conv2_flat = tf.reshape(h_conv2, [-1, stockDaysCount*5*64])\n",
    "# print h_pool2_flat.get_shape() = (?, 36864)\n",
    "\n",
    "h_fc1 = tf.nn.relu(tf.matmul(h_conv2_flat, W_fc1) + b_fc1)\n",
    "# print (h_fc1.get_shape()) # => (?, 1024)\n",
    "\n",
    "\n",
    "\n",
    "# ---------------------------------readout layer-------------------------------\n",
    "W_fc2 = weight_variable([1024, predictionsCount])\n",
    "b_fc2 = bias_variable([predictionsCount])\n",
    "\n",
    "readout_layer = (tf.matmul(h_fc1, W_fc2) + b_fc2)\n",
    "# print (readout_layer.get_shape()) #=> (?, 1)\n",
    "\n",
    "\n",
    "\n",
    "print('Convolutional Nueral Net Defined')"
   ]
  },
  {
   "cell_type": "markdown",
   "metadata": {},
   "source": [
    "# define training step and train"
   ]
  },
  {
   "cell_type": "code",
   "execution_count": 63,
   "metadata": {
    "collapsed": false
   },
   "outputs": [
    {
     "name": "stdout",
     "output_type": "stream",
     "text": [
      "(?, 1)\n",
      "MTDR prediction_delta 1: 2.81692\n",
      "TEVA prediction_delta 101: 1.90998\n",
      "C prediction_delta 201: 0.445477\n",
      "GLPI prediction_delta 301: 1.13038\n",
      "WB prediction_delta 401: 0.125559\n",
      "ETP prediction_delta 501: 0.722036\n",
      "ARE prediction_delta 601: 0.148678\n",
      "EZU prediction_delta 701: 2.04189\n",
      "BID prediction_delta 801: 1.52726\n",
      "WM prediction_delta 901: 0.470991\n",
      "CDE prediction_delta 1001: 0.630739\n",
      "PDCE prediction_delta 1101: 0.775513\n",
      "NEM prediction_delta 1201: 0.862133\n",
      "KATE prediction_delta 1301: 0.22212\n",
      "REG prediction_delta 1401: 0.388048\n",
      "AER prediction_delta 1501: 0.281486\n",
      "PCAR prediction_delta 1601: 1.23284\n",
      "WWW prediction_delta 1701: 0.173415\n",
      "TRMB prediction_delta 1801: 0.605353\n",
      "KIM prediction_delta 1901: 0.356824\n",
      "IMS prediction_delta 2001: 0.340116\n",
      "UFS prediction_delta 2101: 1.25081\n",
      "ATU prediction_delta 2201: 0.694122\n",
      "VOO prediction_delta 2301: 0.447544\n",
      "SH prediction_delta 2401: 1.12905\n",
      "KNX prediction_delta 2501: 0.461177\n",
      "BABA prediction_delta 2601: 0.38831\n",
      "HOG prediction_delta 2701: 1.58269\n",
      "GWPH prediction_delta 2801: 0.964624\n",
      "UAL prediction_delta 2901: 0.274639\n",
      "BKLN prediction_delta 3001: 0.537713\n",
      "SM prediction_delta 3101: 0.78556\n",
      "CTXS prediction_delta 3201: 0.136383\n",
      "GE prediction_delta 3301: 0.228582\n",
      "EWC prediction_delta 3401: 0.376068\n",
      "TYC prediction_delta 3501: 0.532218\n",
      "HE prediction_delta 3601: 0.484471\n",
      "EZU prediction_delta 3701: 0.385291\n",
      "MCO prediction_delta 3801: 0.266958\n",
      "POT prediction_delta 3901: 0.461001\n"
     ]
    },
    {
     "ename": "ZeroDivisionError",
     "evalue": "float division by zero",
     "output_type": "error",
     "traceback": [
      "\u001b[0;31m---------------------------------------------------------------------------\u001b[0m",
      "\u001b[0;31mZeroDivisionError\u001b[0m                         Traceback (most recent call last)",
      "\u001b[0;32m<ipython-input-63-8e039ba9e9e6>\u001b[0m in \u001b[0;36m<module>\u001b[0;34m()\u001b[0m\n\u001b[1;32m     13\u001b[0m \u001b[0mactuals\u001b[0m \u001b[0;34m=\u001b[0m \u001b[0;34m[\u001b[0m\u001b[0;34m]\u001b[0m\u001b[0;34m\u001b[0m\u001b[0m\n\u001b[1;32m     14\u001b[0m \u001b[0;32mfor\u001b[0m \u001b[0mi\u001b[0m \u001b[0;32min\u001b[0m \u001b[0mrange\u001b[0m\u001b[0;34m(\u001b[0m\u001b[0;36m0\u001b[0m\u001b[0;34m,\u001b[0m\u001b[0;36m5001\u001b[0m\u001b[0;34m)\u001b[0m\u001b[0;34m:\u001b[0m\u001b[0;34m\u001b[0m\u001b[0m\n\u001b[0;32m---> 15\u001b[0;31m     \u001b[0mxx\u001b[0m\u001b[0;34m,\u001b[0m \u001b[0myy\u001b[0m\u001b[0;34m,\u001b[0m \u001b[0mzz\u001b[0m \u001b[0;34m=\u001b[0m \u001b[0mgetBatch\u001b[0m\u001b[0;34m(\u001b[0m\u001b[0;36m10\u001b[0m\u001b[0;34m,\u001b[0m\u001b[0;36m1\u001b[0m\u001b[0;34m)\u001b[0m\u001b[0;34m\u001b[0m\u001b[0m\n\u001b[0m\u001b[1;32m     16\u001b[0m     \u001b[0mactuals\u001b[0m\u001b[0;34m.\u001b[0m\u001b[0mappend\u001b[0m\u001b[0;34m(\u001b[0m\u001b[0myy\u001b[0m\u001b[0;34m[\u001b[0m\u001b[0;36m0\u001b[0m\u001b[0;34m]\u001b[0m\u001b[0;34m)\u001b[0m\u001b[0;34m\u001b[0m\u001b[0m\n\u001b[1;32m     17\u001b[0m     \u001b[0mpredicion\u001b[0m \u001b[0;34m=\u001b[0m \u001b[0msess\u001b[0m\u001b[0;34m.\u001b[0m\u001b[0mrun\u001b[0m\u001b[0;34m(\u001b[0m\u001b[0mtf\u001b[0m\u001b[0;34m.\u001b[0m\u001b[0mreduce_mean\u001b[0m\u001b[0;34m(\u001b[0m\u001b[0mreadout_layer\u001b[0m\u001b[0;34m)\u001b[0m\u001b[0;34m,\u001b[0m \u001b[0mfeed_dict\u001b[0m\u001b[0;34m=\u001b[0m\u001b[0;34m{\u001b[0m\u001b[0mx\u001b[0m\u001b[0;34m:\u001b[0m\u001b[0mxx\u001b[0m\u001b[0;34m,\u001b[0m \u001b[0my_\u001b[0m\u001b[0;34m:\u001b[0m\u001b[0myy\u001b[0m\u001b[0;34m}\u001b[0m\u001b[0;34m)\u001b[0m\u001b[0;34m\u001b[0m\u001b[0m\n",
      "\u001b[0;32m<ipython-input-44-56486818f84f>\u001b[0m in \u001b[0;36mgetBatch\u001b[0;34m(setupLength, predictLength)\u001b[0m\n\u001b[1;32m     81\u001b[0m     \u001b[0mstart\u001b[0m \u001b[0;34m=\u001b[0m \u001b[0mrandom\u001b[0m\u001b[0;34m.\u001b[0m\u001b[0mrandint\u001b[0m\u001b[0;34m(\u001b[0m\u001b[0;36m1\u001b[0m\u001b[0;34m,\u001b[0m \u001b[0;34m(\u001b[0m\u001b[0mlen\u001b[0m\u001b[0;34m(\u001b[0m\u001b[0mfLines\u001b[0m\u001b[0;34m)\u001b[0m \u001b[0;34m-\u001b[0m \u001b[0msetupLength\u001b[0m \u001b[0;34m-\u001b[0m \u001b[0mpredictLength\u001b[0m \u001b[0;34m-\u001b[0m \u001b[0;36m1\u001b[0m\u001b[0;34m)\u001b[0m\u001b[0;34m)\u001b[0m\u001b[0;34m\u001b[0m\u001b[0m\n\u001b[1;32m     82\u001b[0m     \u001b[0mspySetupData\u001b[0m\u001b[0;34m,\u001b[0m \u001b[0mspyLabels\u001b[0m\u001b[0;34m,\u001b[0m \u001b[0mlabelDates\u001b[0m \u001b[0;34m=\u001b[0m \u001b[0mgetStockData\u001b[0m\u001b[0;34m(\u001b[0m\u001b[0;34m'SPY.txt'\u001b[0m\u001b[0;34m,\u001b[0m\u001b[0mstart\u001b[0m\u001b[0;34m,\u001b[0m\u001b[0msetupLength\u001b[0m\u001b[0;34m,\u001b[0m\u001b[0mpredictLength\u001b[0m\u001b[0;34m)\u001b[0m\u001b[0;34m\u001b[0m\u001b[0m\n\u001b[0;32m---> 83\u001b[0;31m     \u001b[0mstockSetupData\u001b[0m\u001b[0;34m,\u001b[0m \u001b[0mstockLabels\u001b[0m\u001b[0;34m,\u001b[0m \u001b[0mlabelDates\u001b[0m \u001b[0;34m=\u001b[0m \u001b[0mgetStockData\u001b[0m\u001b[0;34m(\u001b[0m\u001b[0mfileName\u001b[0m\u001b[0;34m,\u001b[0m\u001b[0mstart\u001b[0m\u001b[0;34m,\u001b[0m\u001b[0msetupLength\u001b[0m\u001b[0;34m,\u001b[0m\u001b[0mpredictLength\u001b[0m\u001b[0;34m)\u001b[0m\u001b[0;34m\u001b[0m\u001b[0m\n\u001b[0m\u001b[1;32m     84\u001b[0m     \u001b[0msetupData\u001b[0m \u001b[0;34m=\u001b[0m \u001b[0;34m[\u001b[0m\u001b[0;34m]\u001b[0m\u001b[0;34m\u001b[0m\u001b[0m\n\u001b[1;32m     85\u001b[0m     \u001b[0mfutureLabels\u001b[0m \u001b[0;34m=\u001b[0m \u001b[0;34m[\u001b[0m\u001b[0;34m]\u001b[0m\u001b[0;34m\u001b[0m\u001b[0m\n",
      "\u001b[0;32m<ipython-input-44-56486818f84f>\u001b[0m in \u001b[0;36mgetStockData\u001b[0;34m(fileName, start, setupLength, predictLength)\u001b[0m\n\u001b[1;32m     64\u001b[0m             \u001b[0msetupData\u001b[0m\u001b[0;34m[\u001b[0m\u001b[0mi\u001b[0m\u001b[0;34m]\u001b[0m \u001b[0;34m=\u001b[0m \u001b[0;34m(\u001b[0m\u001b[0msetupData\u001b[0m\u001b[0;34m[\u001b[0m\u001b[0mi\u001b[0m\u001b[0;34m]\u001b[0m \u001b[0;34m-\u001b[0m \u001b[0mtmpLow\u001b[0m\u001b[0;34m)\u001b[0m\u001b[0;34m/\u001b[0m\u001b[0;34m(\u001b[0m\u001b[0mtmpHi\u001b[0m\u001b[0;34m-\u001b[0m\u001b[0mtmpLow\u001b[0m\u001b[0;34m)\u001b[0m\u001b[0;34m\u001b[0m\u001b[0m\n\u001b[1;32m     65\u001b[0m         \u001b[0;32mif\u001b[0m\u001b[0;34m(\u001b[0m\u001b[0;36m5\u001b[0m\u001b[0;34m*\u001b[0m\u001b[0;34m(\u001b[0m\u001b[0mi\u001b[0m\u001b[0;34m//\u001b[0m\u001b[0;36m5\u001b[0m\u001b[0;34m)\u001b[0m\u001b[0;34m+\u001b[0m\u001b[0;36m4\u001b[0m \u001b[0;34m==\u001b[0m \u001b[0mi\u001b[0m\u001b[0;34m)\u001b[0m\u001b[0;34m:\u001b[0m\u001b[0;34m\u001b[0m\u001b[0m\n\u001b[0;32m---> 66\u001b[0;31m             \u001b[0msetupData\u001b[0m\u001b[0;34m[\u001b[0m\u001b[0mi\u001b[0m\u001b[0;34m]\u001b[0m \u001b[0;34m=\u001b[0m \u001b[0;34m(\u001b[0m\u001b[0msetupData\u001b[0m\u001b[0;34m[\u001b[0m\u001b[0mi\u001b[0m\u001b[0;34m]\u001b[0m \u001b[0;34m-\u001b[0m \u001b[0mtmpVolLow\u001b[0m\u001b[0;34m)\u001b[0m\u001b[0;34m/\u001b[0m\u001b[0;34m(\u001b[0m\u001b[0mtmpVolHi\u001b[0m\u001b[0;34m-\u001b[0m\u001b[0mtmpVolLow\u001b[0m\u001b[0;34m)\u001b[0m\u001b[0;34m\u001b[0m\u001b[0m\n\u001b[0m\u001b[1;32m     67\u001b[0m \u001b[0;34m\u001b[0m\u001b[0m\n\u001b[1;32m     68\u001b[0m     \u001b[0mfutureLabels\u001b[0m \u001b[0;34m=\u001b[0m \u001b[0;34m[\u001b[0m\u001b[0;34m(\u001b[0m\u001b[0mclose\u001b[0m\u001b[0;34m-\u001b[0m\u001b[0mtmpLow\u001b[0m\u001b[0;34m)\u001b[0m\u001b[0;34m/\u001b[0m\u001b[0;34m(\u001b[0m\u001b[0mtmpHi\u001b[0m\u001b[0;34m-\u001b[0m\u001b[0mtmpLow\u001b[0m\u001b[0;34m)\u001b[0m\u001b[0;34m]\u001b[0m\u001b[0;34m\u001b[0m\u001b[0m\n",
      "\u001b[0;31mZeroDivisionError\u001b[0m: float division by zero"
     ]
    }
   ],
   "source": [
    "print(readout_layer.get_shape())\n",
    "prediction_delta = tf.reduce_sum(tf.abs((readout_layer - y_)))\n",
    "train_step = tf.train.AdamOptimizer(1e-04).minimize(prediction_delta)\n",
    "# train_step = tf.train.GradientDescentOptimizer(.5).minimize(prediction_delta)\n",
    "\n",
    "\n",
    "sess = tf.Session()\n",
    "sess.run(tf.initialize_all_variables())\n",
    "# xx, yy, zz = getBatch(50,10)\n",
    "   \n",
    "\n",
    "predictions = []\n",
    "actuals = []\n",
    "for i in range(0,5001):\n",
    "    xx, yy, zz = getBatch(10,1)\n",
    "    actuals.append(yy[0])\n",
    "    predicion = sess.run(tf.reduce_mean(readout_layer), feed_dict={x:xx, y_:yy})\n",
    "    predictions.append(predicion)\n",
    "    sess.run(train_step, feed_dict={x: xx, y_: yy})\n",
    "    if(i%100 == 0):\n",
    "        print(zz[0] + ' prediction_delta ' + str(i+1) + \n",
    "              ': ' + str(sess.run(prediction_delta, feed_dict={x: xx, y_: yy})))\n"
   ]
  },
  {
   "cell_type": "code",
   "execution_count": 67,
   "metadata": {
    "collapsed": false
   },
   "outputs": [
    {
     "name": "stdout",
     "output_type": "stream",
     "text": [
      "-0.211534\n",
      "average prediction delta: 0.35\n"
     ]
    },
    {
     "data": {
      "text/plain": [
       "[<matplotlib.lines.Line2D at 0x7f7660e12358>]"
      ]
     },
     "execution_count": 67,
     "metadata": {},
     "output_type": "execute_result"
    },
    {
     "data": {
      "image/png": "[encoded data removed]",
      "text/plain": [
       "<matplotlib.figure.Figure at 0x7f7660e12fd0>"
      ]
     },
     "metadata": {},
     "output_type": "display_data"
    }
   ],
   "source": [
    "print(predictions[40])\n",
    "deltas = []\n",
    "for i in range(len(predictions)):\n",
    "    deltas.append(abs(predictions[i]-actuals[i]))\n",
    "\n",
    "print('average prediction delta: {:.2f}'.format(np.mean(deltas)))\n",
    "\n",
    "plt.rcParams['figure.figsize'] = (15,6)\n",
    "plt.plot(predictions[600:700]) #blue\n",
    "plt.plot(actuals[600:700]) #green"
   ]
  },
  {
   "cell_type": "code",
   "execution_count": null,
   "metadata": {
    "collapsed": true
   },
   "outputs": [],
   "source": []
  },
  {
   "cell_type": "code",
   "execution_count": null,
   "metadata": {
    "collapsed": true
   },
   "outputs": [],
   "source": []
  },
  {
   "cell_type": "code",
   "execution_count": null,
   "metadata": {
    "collapsed": true
   },
   "outputs": [],
   "source": []
  },
  {
   "cell_type": "code",
   "execution_count": null,
   "metadata": {
    "collapsed": true
   },
   "outputs": [],
   "source": []
  },
  {
   "cell_type": "code",
   "execution_count": null,
   "metadata": {
    "collapsed": true
   },
   "outputs": [],
   "source": []
  },
  {
   "cell_type": "code",
   "execution_count": null,
   "metadata": {
    "collapsed": true
   },
   "outputs": [],
   "source": []
  },
  {
   "cell_type": "code",
   "execution_count": null,
   "metadata": {
    "collapsed": true
   },
   "outputs": [],
   "source": []
  },
  {
   "cell_type": "code",
   "execution_count": null,
   "metadata": {
    "collapsed": true
   },
   "outputs": [],
   "source": []
  },
  {
   "cell_type": "code",
   "execution_count": null,
   "metadata": {
    "collapsed": true
   },
   "outputs": [],
   "source": [
    "class greg:\n",
    "    def getCups(self):\n",
    "        return 'cccups'\n",
    "    \n",
    "    def __init__(self,x,y):\n",
    "        print(x + ' ' + y)\n",
    "        arr = [1,2,3,4,5,6]\n",
    "        self.cups = self.getCups()\n",
    "        self.last = arr[-1]\n",
    "        \n",
    "lilGreg = greg('yup','hey')\n",
    "print(lilGreg.cups)\n",
    "print(lilGreg.last)\n",
    "\n",
    "\n",
    "for i in range(0,10,2):\n",
    "    print('greg')"
   ]
  }
 ],
 "metadata": {
  "kernelspec": {
   "display_name": "Python 3",
   "language": "python",
   "name": "python3"
  },
  "language_info": {
   "codemirror_mode": {
    "name": "ipython",
    "version": 3
   },
   "file_extension": ".py",
   "mimetype": "text/x-python",
   "name": "python",
   "nbconvert_exporter": "python",
   "pygments_lexer": "ipython3",
   "version": "3.4.3"
  }
 },
 "nbformat": 4,
 "nbformat_minor": 0
}
