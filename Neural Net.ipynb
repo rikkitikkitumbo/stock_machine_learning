{
 "cells": [
  {
   "cell_type": "code",
   "execution_count": 248,
   "metadata": {
    "collapsed": false
   },
   "outputs": [
    {
     "name": "stdout",
     "output_type": "stream",
     "text": [
      "libraries imported!\n",
      "1\n"
     ]
    }
   ],
   "source": [
    "# ---------------Load Data-----------------\n",
    "import numpy as np\n",
    "import pandas as pd\n",
    "import tensorflow as tf\n",
    "import matplotlib.pyplot as plt\n",
    "import matplotlib.cm as cm\n",
    "import random as random\n",
    "# from os import listdir\n",
    "%matplotlib inline \n",
    "\n",
    "# data = pd.read_csv('data/training.csv')\n",
    "print('libraries imported!')\n",
    "\n",
    "for i in range(1,0,-1):\n",
    "    print(i)"
   ]
  },
  {
   "cell_type": "markdown",
   "metadata": {
    "collapsed": true
   },
   "source": [
    "# Def getting stock data"
   ]
  },
  {
   "cell_type": "code",
   "execution_count": 282,
   "metadata": {
    "collapsed": false
   },
   "outputs": [
    {
     "name": "stdout",
     "output_type": "stream",
     "text": [
      "5\n",
      "2011-10-19,122.379997,123.080002,120.709999,121.129997,226601300,109.78341\n",
      "2011-10-20,121.43,122.099998,119.82,121.660004,262075600,110.263769\n",
      "2011-10-21,123.089996,124.120003,122.720001,123.970001,278999400,112.357383\n",
      "2011-10-24,124.169998,125.800003,124.059998,125.489998,203215600,113.734997\n",
      "2011-10-25,124.889999,124.949997,122.779999,123.050003,268596800,111.523563\n",
      "2011-10-26,124.349998,124.769997,122.209999,124.300003,289053800,112.656472\n",
      "([122.379997, 123.080002, 120.709999, 121.129997, 226601300.0, 121.43, 122.099998, 119.82, 121.660004, 262075600.0, 123.089996, 124.120003, 122.720001, 123.970001, 278999400.0], [125.800003, 122.209999, 124.300003])\n"
     ]
    }
   ],
   "source": [
    "stockFiles = os.listdir('stockData')\n",
    "\n",
    "def getStockData(fileName, size):\n",
    "    oldStockData = []\n",
    "    file = open('stockData/' + fileName)\n",
    "    fLines = file.readlines()\n",
    "    end = random.randint(1, (len(fLines) - (size*2)+1))\n",
    "    start = 1200\n",
    "    end = start + size*2 -1\n",
    "    print(end-start)\n",
    "    high = 0\n",
    "    low = 1000000\n",
    "    close = float(fLines[start].split(',')[4])\n",
    "    \n",
    "    # get the 'old' stock data\n",
    "    for i in range(end, start-1, -1):\n",
    "        line = fLines[i].strip()\n",
    "        lineArray = line.split(',')\n",
    "        for k in range(1,7):\n",
    "            lineArray[k] = float(lineArray[k])\n",
    "        x = lineArray[6]/lineArray[4]\n",
    "\n",
    "        if(i>=(start+size)):\n",
    "            print(line)\n",
    "            for j in range(1,5):\n",
    "                oldStockData.append(lineArray[j])\n",
    "            oldStockData.append(lineArray[5])\n",
    "\n",
    "    \n",
    "    # get the high/low of 'new' stock data (we try and predict this)\n",
    "        if(i<(start + size)):\n",
    "            print(line)\n",
    "            if (lineArray[2] > high):\n",
    "                high = lineArray[2]\n",
    "            if (lineArray[3] < low):\n",
    "                low = lineArray[3]\n",
    "    file.close()\n",
    "    HL = [high,low,close]\n",
    "    \n",
    "    return (oldStockData), HL\n",
    "    \n",
    "print((getStockData('SPY.txt', 3)))\n",
    "\n",
    "    "
   ]
  },
  {
   "cell_type": "code",
   "execution_count": null,
   "metadata": {
    "collapsed": true
   },
   "outputs": [],
   "source": []
  }
 ],
 "metadata": {
  "kernelspec": {
   "display_name": "Python 3",
   "language": "python",
   "name": "python3"
  },
  "language_info": {
   "codemirror_mode": {
    "name": "ipython",
    "version": 3
   },
   "file_extension": ".py",
   "mimetype": "text/x-python",
   "name": "python",
   "nbconvert_exporter": "python",
   "pygments_lexer": "ipython3",
   "version": "3.4.3"
  }
 },
 "nbformat": 4,
 "nbformat_minor": 0
}
