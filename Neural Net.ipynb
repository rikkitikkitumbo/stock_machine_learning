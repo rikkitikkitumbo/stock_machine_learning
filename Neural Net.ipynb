{
 "cells": [
  {
   "cell_type": "markdown",
   "metadata": {},
   "source": [
    "# Conclusion:\n",
    "    I found the Convolutional Neural Network to be pretty dismal.  I'm wondering if a CNN is a good approach for predicting the next element in a series.  Perhaps there is a better model for problems like this.  "
   ]
  },
  {
   "cell_type": "code",
   "execution_count": 1,
   "metadata": {
    "collapsed": false
   },
   "outputs": [
    {
     "name": "stdout",
     "output_type": "stream",
     "text": [
      "libraries imported!\n"
     ]
    }
   ],
   "source": [
    "# ---------------Load Data-----------------\n",
    "import numpy as np\n",
    "import pandas as pd\n",
    "import tensorflow as tf\n",
    "import matplotlib.pyplot as plt\n",
    "import matplotlib.cm as cm\n",
    "import random as random\n",
    "import os as os\n",
    "%matplotlib inline \n",
    "\n",
    "# data = pd.read_csv('data/training.csv')\n",
    "print('libraries imported!')\n"
   ]
  },
  {
   "cell_type": "markdown",
   "metadata": {
    "collapsed": true
   },
   "source": [
    "# Def getting stock data (getting next batch)"
   ]
  },
  {
   "cell_type": "code",
   "execution_count": 2,
   "metadata": {
    "collapsed": false
   },
   "outputs": [
    {
     "name": "stdout",
     "output_type": "stream",
     "text": [
      "get Data methods defined\n"
     ]
    }
   ],
   "source": [
    "stockFiles = os.listdir('stockData')\n",
    "predictionsCount = 3 #the High, Low, and close over the course of the prediction period\n",
    "setupArrayLength = 250 # this should be the numDays you want in a setup x 5 \n",
    "\n",
    "def getStockData(fileName, start, setupLength, predictLength):\n",
    "    setupData = []\n",
    "    file = open('stockData/' + fileName)\n",
    "    fLines = file.readlines()\n",
    "    end = start + setupLength + predictLength -1\n",
    "    predictStartDate = fLines[start + predictLength -1].split(',')[0]\n",
    "    predictEndDate = fLines[start].split(',')[0]\n",
    "    high = 0\n",
    "    low = 1000000\n",
    "    \n",
    "    # get the 'old' stock data\n",
    "    for i in range(end, start-1, -1):\n",
    "        line = fLines[i].strip()\n",
    "        lineArray = line.split(',')\n",
    "        for k in range(1,7):\n",
    "            lineArray[k] = float(lineArray[k])\n",
    "        x = lineArray[6]/lineArray[4]\n",
    "\n",
    "        if(i>=(start+predictLength)):\n",
    "            for j in range(1,5):\n",
    "                setupData.append(lineArray[j]*x)\n",
    "            setupData.append(lineArray[5])\n",
    "\n",
    "    \n",
    "    # get the high/low of 'new' stock data (we try and predict this)\n",
    "        if(i<(start + predictLength)):\n",
    "            if (lineArray[2]*x > high):\n",
    "                high = lineArray[2]*x\n",
    "            if (lineArray[3]*x < low):\n",
    "                low = lineArray[3]*x\n",
    "                \n",
    "        close = float(fLines[start].split(',')[4])*x\n",
    "    \n",
    "    file.close()\n",
    "    \n",
    "    \n",
    "    # ----------------------convert data to 0=>1 instead of prices\n",
    "    tmpHi = 0\n",
    "    tmpLow = 1000000\n",
    "    tmpVolHi = 0\n",
    "    tmpVolLow = 1000000000\n",
    "    \n",
    "    for i in range(0,len(setupData)): # find the His and Lows for vol and price\n",
    "        if(5*(i//5)+1 == i):\n",
    "            if(setupData[i] > tmpHi):\n",
    "                tmpHi = setupData[i]\n",
    "        if(5*(i//5)+2 == i):\n",
    "            if(setupData[i] < tmpLow):\n",
    "                tmpLow = setupData[i]\n",
    "        if(5*(i//5)+4 == i):\n",
    "            if(setupData[i] > tmpVolHi):\n",
    "                tmpVolHi = setupData[i]\n",
    "            if(setupData[i] < tmpVolLow):\n",
    "                tmpVolLow = setupData[i]\n",
    "    \n",
    "    for i in range(0,len(setupData)): # convert the data to values between 0 and 1\n",
    "        if(5*(i//5)+4 != i):\n",
    "            setupData[i] = (setupData[i] - tmpLow)/(tmpHi-tmpLow)\n",
    "        if(5*(i//5)+4 == i):\n",
    "            setupData[i] = (setupData[i] - tmpVolLow)/(tmpVolHi-tmpVolLow)\n",
    "        \n",
    "    futureLabels = [high,low,close]\n",
    "    symbolAndPredictDates = [fileName.split('.')[0], predictStartDate, predictEndDate]\n",
    "            \n",
    "    return setupData, futureLabels, symbolAndPredictDates\n",
    " \n",
    "\n",
    "\n",
    "def getBatch(setupLength, predictLength):\n",
    "    randIndex = random.randint(0,950)\n",
    "    fileName = stockFiles[randIndex]\n",
    "    file = open('stockData/' + fileName)\n",
    "    fLines = file.readlines()\n",
    "    file.close()\n",
    "    start = random.randint(1, (len(fLines) - setupLength - predictLength - 1))\n",
    "    spySetupData, spyLabels, labelDates = getStockData('SPY.txt',start,setupLength,predictLength)\n",
    "    stockSetupData, stockLabels, labelDates = getStockData(fileName,start,setupLength,predictLength)\n",
    "    setupData = []\n",
    "    futureLabels = []\n",
    "    \n",
    "    setupData.append(stockSetupData)\n",
    "    setupData.append(spySetupData)\n",
    "    futureLabels.append(stockLabels)\n",
    "    \n",
    "    return np.asarray(setupData,dtype=np.float32), np.asarray(futureLabels,dtype=np.float32), labelDates\n",
    "    \n",
    "\n",
    "\n",
    "print('get Data methods defined')"
   ]
  },
  {
   "cell_type": "markdown",
   "metadata": {
    "collapsed": true
   },
   "source": [
    "# Set up our CNN methods"
   ]
  },
  {
   "cell_type": "code",
   "execution_count": 3,
   "metadata": {
    "collapsed": false
   },
   "outputs": [
    {
     "name": "stdout",
     "output_type": "stream",
     "text": [
      "methods defined\n"
     ]
    }
   ],
   "source": [
    "# set up our weights (or kernals?) and biases for each pixel\n",
    "def weight_variable(shape):\n",
    "    initial = tf.truncated_normal(shape, stddev=.1)\n",
    "    return tf.Variable(initial)\n",
    "\n",
    "def bias_variable(shape):\n",
    "    initial = tf.constant(.1, shape=shape, dtype=tf.float32)\n",
    "    return tf.Variable(initial)\n",
    "\n",
    "# convolution\n",
    "def conv2d(x, W):\n",
    "    return tf.nn.conv2d(x, W, [1,1,1,1], 'SAME')\n",
    "\n",
    "# pooling\n",
    "def max_pool_2x2(x):\n",
    "    return tf.nn.max_pool(x, ksize=[1, 2, 2, 1], strides=[1, 2, 2, 1], padding='SAME')\n",
    "\n",
    "\n",
    "\n",
    "# placeholder variables\n",
    "# stock_setupData\n",
    "x = tf.placeholder(tf.float32, shape=[None, setupArrayLength])\n",
    "\n",
    "# stockPredictionData\n",
    "y_ = tf.placeholder(tf.float32, shape=[None, predictionsCount])\n",
    "\n",
    "\n",
    "\n",
    "print('methods defined')"
   ]
  },
  {
   "cell_type": "markdown",
   "metadata": {},
   "source": [
    "# set up our CNN"
   ]
  },
  {
   "cell_type": "code",
   "execution_count": 4,
   "metadata": {
    "collapsed": false
   },
   "outputs": [
    {
     "name": "stdout",
     "output_type": "stream",
     "text": [
      "Convolutional Nueral Net Defined\n"
     ]
    }
   ],
   "source": [
    "# ----------------first convolutional layer---------------------------\n",
    "W_conv1 = weight_variable([1, 5, 1, 32]) # filterHeight,filterWidth,inChannels,outFeatures\n",
    "b_conv1 = bias_variable([32])\n",
    "\n",
    "# x,l = (getStockData('AXS.txt', 2,1))\n",
    "\n",
    "# turn shape(stockDaysCount,5)  into   (?,stockDaysCount,5,1) ... so it will work with the conv2d method\n",
    "stockDaysCount = int(setupArrayLength/5)\n",
    "stock = tf.reshape(x, [-1,stockDaysCount,5,1])  # numStocks,stockDaysCount,width,numChannels\n",
    "# print (stock.get_shape()) # =>(?,stockDaysCount,5,1)\n",
    "\n",
    "h_conv1 = tf.nn.relu(conv2d(stock, W_conv1) + b_conv1)\n",
    "# print (h_conv1.get_shape()) # => (?, stockDaysCount, 5, 32)\n",
    "\n",
    "\n",
    "# ------------------------------not really sure we need max pooling?  there aren't that many data points\n",
    "# h_pool1 = max_pool_2x2(h_conv1)\n",
    "# print (h_pool1.get_shape()) # => (?, 48, 48, 32)\n",
    "\n",
    "\n",
    "\n",
    "\n",
    "#-------------------------- second convolutional layer-----------------\n",
    "W_conv2 = weight_variable([1, 5, 32, 64]) # filterHeight,filterWidth,inChannels,outFeatures\n",
    "b_conv2 = bias_variable([64])\n",
    "\n",
    "h_conv2 = tf.nn.relu(conv2d(h_conv1, W_conv2) + b_conv2)\n",
    "# print (h_conv2.get_shape()) # => (?, stockDaysCount,5,64)\n",
    "\n",
    "#------------------again----------------no pooling\n",
    "# h_pool2 = max_pool_2x2(h_conv2)\n",
    "# print (h_pool2.get_shape()) # => (?, 24, 24, 64)\n",
    "\n",
    "\n",
    "\n",
    "#-------------------------fully connected layer-----------------------\n",
    "W_fc1 = weight_variable([stockDaysCount * 5 * 64, 1024])\n",
    "b_fc1 = bias_variable([1024])\n",
    "\n",
    "# (?, 24, 24, 64) => (?, 36864)\n",
    "h_conv2_flat = tf.reshape(h_conv2, [-1, stockDaysCount*5*64])\n",
    "# print h_pool2_flat.get_shape() = (?, 36864)\n",
    "\n",
    "h_fc1 = tf.nn.relu(tf.matmul(h_conv2_flat, W_fc1) + b_fc1)\n",
    "# print (h_fc1.get_shape()) # => (?, 1024)\n",
    "\n",
    "\n",
    "\n",
    "# ---------------------------------readout layer-------------------------------\n",
    "W_fc2 = weight_variable([1024, predictionsCount])\n",
    "b_fc2 = bias_variable([predictionsCount])\n",
    "\n",
    "readout_layer = (tf.matmul(h_fc1, W_fc2) + b_fc2)\n",
    "# print (readout_layer.get_shape()) #=> (?, 30)\n",
    "\n",
    "\n",
    "\n",
    "print('Convolutional Nueral Net Defined')"
   ]
  },
  {
   "cell_type": "markdown",
   "metadata": {},
   "source": [
    "# define training step and train"
   ]
  },
  {
   "cell_type": "code",
   "execution_count": 7,
   "metadata": {
    "collapsed": false
   },
   "outputs": [
    {
     "name": "stdout",
     "output_type": "stream",
     "text": [
      "MSI prediction_delta 1: 1041.97%\n",
      "BIL prediction_delta 26: 939.595%\n",
      "AAP prediction_delta 51: 918.534%\n",
      "ASB prediction_delta 76: 422.546%\n",
      "XLK prediction_delta 101: 841.739%\n",
      "FLIR prediction_delta 126: 641.22%\n",
      "CCE prediction_delta 151: 1532.81%\n",
      "TAHO prediction_delta 176: 123.059%\n",
      "CSC prediction_delta 201: 45.0517%\n",
      "VOYA prediction_delta 226: 935.136%\n",
      "SYT prediction_delta 251: 657.499%\n",
      "TREE prediction_delta 276: 2167.87%\n",
      "NFX prediction_delta 301: 472.154%\n",
      "AGU prediction_delta 326: 841.71%\n",
      "DXCM prediction_delta 351: 873.899%\n",
      "INDA prediction_delta 376: 423.679%\n",
      "MNST prediction_delta 401: 1022.74%\n",
      "SWK prediction_delta 426: 554.087%\n",
      "FRGI prediction_delta 451: 720.511%\n",
      "SCTY prediction_delta 476: 614.435%\n",
      "BEN prediction_delta 501: 849.283%\n",
      "OC prediction_delta 526: 531.783%\n",
      "LXRX prediction_delta 551: 289.556%\n",
      "NUVA prediction_delta 576: 188.973%\n",
      "GME prediction_delta 601: 331.8%\n",
      "HPT prediction_delta 626: 360.866%\n",
      "CBG prediction_delta 651: 686.855%\n",
      "MCD prediction_delta 676: 917.664%\n",
      "E prediction_delta 701: 605.751%\n",
      "INGR prediction_delta 726: 723.541%\n",
      "MYGN prediction_delta 751: 130.972%\n",
      "EWZ prediction_delta 776: 416.97%\n",
      "BKD prediction_delta 801: 372.948%\n",
      "GIII prediction_delta 826: 631.953%\n"
     ]
    },
    {
     "ename": "KeyboardInterrupt",
     "evalue": "",
     "output_type": "error",
     "traceback": [
      "\u001b[0;31m---------------------------------------------------------------------------\u001b[0m",
      "\u001b[0;31mKeyboardInterrupt\u001b[0m                         Traceback (most recent call last)",
      "\u001b[0;32m<ipython-input-7-546e71337bf9>\u001b[0m in \u001b[0;36m<module>\u001b[0;34m()\u001b[0m\n\u001b[1;32m     11\u001b[0m \u001b[0;32mfor\u001b[0m \u001b[0mi\u001b[0m \u001b[0;32min\u001b[0m \u001b[0mrange\u001b[0m\u001b[0;34m(\u001b[0m\u001b[0;36m0\u001b[0m\u001b[0;34m,\u001b[0m\u001b[0;36m10000\u001b[0m\u001b[0;34m)\u001b[0m\u001b[0;34m:\u001b[0m\u001b[0;34m\u001b[0m\u001b[0m\n\u001b[1;32m     12\u001b[0m     \u001b[0mxx\u001b[0m\u001b[0;34m,\u001b[0m \u001b[0myy\u001b[0m\u001b[0;34m,\u001b[0m \u001b[0mzz\u001b[0m \u001b[0;34m=\u001b[0m \u001b[0mgetBatch\u001b[0m\u001b[0;34m(\u001b[0m\u001b[0;36m50\u001b[0m\u001b[0;34m,\u001b[0m\u001b[0;36m10\u001b[0m\u001b[0;34m)\u001b[0m\u001b[0;34m\u001b[0m\u001b[0m\n\u001b[0;32m---> 13\u001b[0;31m     \u001b[0msess\u001b[0m\u001b[0;34m.\u001b[0m\u001b[0mrun\u001b[0m\u001b[0;34m(\u001b[0m\u001b[0mtrain_step\u001b[0m\u001b[0;34m,\u001b[0m \u001b[0mfeed_dict\u001b[0m\u001b[0;34m=\u001b[0m\u001b[0;34m{\u001b[0m\u001b[0mx\u001b[0m\u001b[0;34m:\u001b[0m \u001b[0mxx\u001b[0m\u001b[0;34m,\u001b[0m \u001b[0my_\u001b[0m\u001b[0;34m:\u001b[0m \u001b[0myy\u001b[0m\u001b[0;34m}\u001b[0m\u001b[0;34m)\u001b[0m\u001b[0;34m\u001b[0m\u001b[0m\n\u001b[0m\u001b[1;32m     14\u001b[0m     \u001b[0;32mif\u001b[0m\u001b[0;34m(\u001b[0m\u001b[0mi\u001b[0m\u001b[0;34m%\u001b[0m\u001b[0;36m25\u001b[0m \u001b[0;34m==\u001b[0m \u001b[0;36m0\u001b[0m\u001b[0;34m)\u001b[0m\u001b[0;34m:\u001b[0m\u001b[0;34m\u001b[0m\u001b[0m\n\u001b[1;32m     15\u001b[0m         print(zz[0] + ' prediction_delta ' + str(i+1) + \n",
      "\u001b[0;32m/usr/local/lib/python3.4/dist-packages/tensorflow/python/client/session.py\u001b[0m in \u001b[0;36mrun\u001b[0;34m(self, fetches, feed_dict, options, run_metadata)\u001b[0m\n\u001b[1;32m    370\u001b[0m     \u001b[0;32mtry\u001b[0m\u001b[0;34m:\u001b[0m\u001b[0;34m\u001b[0m\u001b[0m\n\u001b[1;32m    371\u001b[0m       result = self._run(None, fetches, feed_dict, options_ptr,\n\u001b[0;32m--> 372\u001b[0;31m                          run_metadata_ptr)\n\u001b[0m\u001b[1;32m    373\u001b[0m       \u001b[0;32mif\u001b[0m \u001b[0mrun_metadata\u001b[0m\u001b[0;34m:\u001b[0m\u001b[0;34m\u001b[0m\u001b[0m\n\u001b[1;32m    374\u001b[0m         \u001b[0mproto_data\u001b[0m \u001b[0;34m=\u001b[0m \u001b[0mtf_session\u001b[0m\u001b[0;34m.\u001b[0m\u001b[0mTF_GetBuffer\u001b[0m\u001b[0;34m(\u001b[0m\u001b[0mrun_metadata_ptr\u001b[0m\u001b[0;34m)\u001b[0m\u001b[0;34m\u001b[0m\u001b[0m\n",
      "\u001b[0;32m/usr/local/lib/python3.4/dist-packages/tensorflow/python/client/session.py\u001b[0m in \u001b[0;36m_run\u001b[0;34m(self, handle, fetches, feed_dict, options, run_metadata)\u001b[0m\n\u001b[1;32m    634\u001b[0m     \u001b[0;32mtry\u001b[0m\u001b[0;34m:\u001b[0m\u001b[0;34m\u001b[0m\u001b[0m\n\u001b[1;32m    635\u001b[0m       results = self._do_run(handle, target_list, unique_fetches,\n\u001b[0;32m--> 636\u001b[0;31m                              feed_dict_string, options, run_metadata)\n\u001b[0m\u001b[1;32m    637\u001b[0m     \u001b[0;32mfinally\u001b[0m\u001b[0;34m:\u001b[0m\u001b[0;34m\u001b[0m\u001b[0m\n\u001b[1;32m    638\u001b[0m       \u001b[0;31m# The movers are no longer used. Delete them.\u001b[0m\u001b[0;34m\u001b[0m\u001b[0;34m\u001b[0m\u001b[0m\n",
      "\u001b[0;32m/usr/local/lib/python3.4/dist-packages/tensorflow/python/client/session.py\u001b[0m in \u001b[0;36m_do_run\u001b[0;34m(self, handle, target_list, fetch_list, feed_dict, options, run_metadata)\u001b[0m\n\u001b[1;32m    706\u001b[0m     \u001b[0;32mif\u001b[0m \u001b[0mhandle\u001b[0m \u001b[0;32mis\u001b[0m \u001b[0;32mNone\u001b[0m\u001b[0;34m:\u001b[0m\u001b[0;34m\u001b[0m\u001b[0m\n\u001b[1;32m    707\u001b[0m       return self._do_call(_run_fn, self._session, feed_dict, fetch_list,\n\u001b[0;32m--> 708\u001b[0;31m                            target_list, options, run_metadata)\n\u001b[0m\u001b[1;32m    709\u001b[0m     \u001b[0;32melse\u001b[0m\u001b[0;34m:\u001b[0m\u001b[0;34m\u001b[0m\u001b[0m\n\u001b[1;32m    710\u001b[0m       return self._do_call(_prun_fn, self._session, handle, feed_dict,\n",
      "\u001b[0;32m/usr/local/lib/python3.4/dist-packages/tensorflow/python/client/session.py\u001b[0m in \u001b[0;36m_do_call\u001b[0;34m(self, fn, *args)\u001b[0m\n\u001b[1;32m    713\u001b[0m   \u001b[0;32mdef\u001b[0m \u001b[0m_do_call\u001b[0m\u001b[0;34m(\u001b[0m\u001b[0mself\u001b[0m\u001b[0;34m,\u001b[0m \u001b[0mfn\u001b[0m\u001b[0;34m,\u001b[0m \u001b[0;34m*\u001b[0m\u001b[0margs\u001b[0m\u001b[0;34m)\u001b[0m\u001b[0;34m:\u001b[0m\u001b[0;34m\u001b[0m\u001b[0m\n\u001b[1;32m    714\u001b[0m     \u001b[0;32mtry\u001b[0m\u001b[0;34m:\u001b[0m\u001b[0;34m\u001b[0m\u001b[0m\n\u001b[0;32m--> 715\u001b[0;31m       \u001b[0;32mreturn\u001b[0m \u001b[0mfn\u001b[0m\u001b[0;34m(\u001b[0m\u001b[0;34m*\u001b[0m\u001b[0margs\u001b[0m\u001b[0;34m)\u001b[0m\u001b[0;34m\u001b[0m\u001b[0m\n\u001b[0m\u001b[1;32m    716\u001b[0m     \u001b[0;32mexcept\u001b[0m \u001b[0merrors\u001b[0m\u001b[0;34m.\u001b[0m\u001b[0mOpError\u001b[0m \u001b[0;32mas\u001b[0m \u001b[0me\u001b[0m\u001b[0;34m:\u001b[0m\u001b[0;34m\u001b[0m\u001b[0m\n\u001b[1;32m    717\u001b[0m       \u001b[0mmessage\u001b[0m \u001b[0;34m=\u001b[0m \u001b[0mcompat\u001b[0m\u001b[0;34m.\u001b[0m\u001b[0mas_text\u001b[0m\u001b[0;34m(\u001b[0m\u001b[0me\u001b[0m\u001b[0;34m.\u001b[0m\u001b[0mmessage\u001b[0m\u001b[0;34m)\u001b[0m\u001b[0;34m\u001b[0m\u001b[0m\n",
      "\u001b[0;32m/usr/local/lib/python3.4/dist-packages/tensorflow/python/client/session.py\u001b[0m in \u001b[0;36m_run_fn\u001b[0;34m(session, feed_dict, fetch_list, target_list, options, run_metadata)\u001b[0m\n\u001b[1;32m    695\u001b[0m         return tf_session.TF_Run(session, options,\n\u001b[1;32m    696\u001b[0m                                  \u001b[0mfeed_dict\u001b[0m\u001b[0;34m,\u001b[0m \u001b[0mfetch_list\u001b[0m\u001b[0;34m,\u001b[0m \u001b[0mtarget_list\u001b[0m\u001b[0;34m,\u001b[0m\u001b[0;34m\u001b[0m\u001b[0m\n\u001b[0;32m--> 697\u001b[0;31m                                  status, run_metadata)\n\u001b[0m\u001b[1;32m    698\u001b[0m \u001b[0;34m\u001b[0m\u001b[0m\n\u001b[1;32m    699\u001b[0m     \u001b[0;32mdef\u001b[0m \u001b[0m_prun_fn\u001b[0m\u001b[0;34m(\u001b[0m\u001b[0msession\u001b[0m\u001b[0;34m,\u001b[0m \u001b[0mhandle\u001b[0m\u001b[0;34m,\u001b[0m \u001b[0mfeed_dict\u001b[0m\u001b[0;34m,\u001b[0m \u001b[0mfetch_list\u001b[0m\u001b[0;34m)\u001b[0m\u001b[0;34m:\u001b[0m\u001b[0;34m\u001b[0m\u001b[0m\n",
      "\u001b[0;31mKeyboardInterrupt\u001b[0m: "
     ]
    }
   ],
   "source": [
    "prediction_delta = tf.reduce_sum(tf.abs((readout_layer - y_)/y_[0:1,:]*200))\n",
    "train_step = tf.train.AdamOptimizer(1e-04).minimize(prediction_delta)\n",
    "# train_step = tf.train.GradientDescentOptimizer(.5).minimize(prediction_delta)\n",
    "\n",
    "\n",
    "sess = tf.Session()\n",
    "sess.run(tf.initialize_all_variables())\n",
    "# xx, yy, zz = getBatch(50,10)\n",
    "   \n",
    "\n",
    "for i in range(0,10000):\n",
    "    xx, yy, zz = getBatch(50,10)\n",
    "    sess.run(train_step, feed_dict={x: xx, y_: yy})\n",
    "    if(i%25 == 0):\n",
    "        print(zz[0] + ' prediction_delta ' + str(i+1) + \n",
    "              ': ' + str(sess.run(prediction_delta, feed_dict={x: xx, y_: yy})) + '%')\n",
    "#         print('prediction_dates: ' + str(zz))\n",
    "#         print('corect hi/low/close: ' + str(yy))\n",
    "#         print('predicted hi/low/close: ' + str(sess.run(readout_layer, feed_dict={x: xx, y_: yy})))"
   ]
  },
  {
   "cell_type": "code",
   "execution_count": null,
   "metadata": {
    "collapsed": true
   },
   "outputs": [],
   "source": []
  },
  {
   "cell_type": "code",
   "execution_count": null,
   "metadata": {
    "collapsed": true
   },
   "outputs": [],
   "source": []
  },
  {
   "cell_type": "code",
   "execution_count": null,
   "metadata": {
    "collapsed": true
   },
   "outputs": [],
   "source": []
  },
  {
   "cell_type": "code",
   "execution_count": null,
   "metadata": {
    "collapsed": true
   },
   "outputs": [],
   "source": []
  },
  {
   "cell_type": "code",
   "execution_count": null,
   "metadata": {
    "collapsed": true
   },
   "outputs": [],
   "source": []
  },
  {
   "cell_type": "code",
   "execution_count": null,
   "metadata": {
    "collapsed": true
   },
   "outputs": [],
   "source": []
  },
  {
   "cell_type": "code",
   "execution_count": null,
   "metadata": {
    "collapsed": true
   },
   "outputs": [],
   "source": []
  },
  {
   "cell_type": "code",
   "execution_count": null,
   "metadata": {
    "collapsed": true
   },
   "outputs": [],
   "source": []
  },
  {
   "cell_type": "code",
   "execution_count": null,
   "metadata": {
    "collapsed": true
   },
   "outputs": [],
   "source": []
  },
  {
   "cell_type": "code",
   "execution_count": null,
   "metadata": {
    "collapsed": true
   },
   "outputs": [],
   "source": []
  }
 ],
 "metadata": {
  "kernelspec": {
   "display_name": "Python 3",
   "language": "python",
   "name": "python3"
  },
  "language_info": {
   "codemirror_mode": {
    "name": "ipython",
    "version": 3
   },
   "file_extension": ".py",
   "mimetype": "text/x-python",
   "name": "python",
   "nbconvert_exporter": "python",
   "pygments_lexer": "ipython3",
   "version": "3.4.3"
  }
 },
 "nbformat": 4,
 "nbformat_minor": 0
}
